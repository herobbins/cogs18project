{
 "cells": [
  {
   "cell_type": "markdown",
   "metadata": {},
   "source": [
    "Restaurant Decider for the Indecisive Eater Outers"
   ]
  },
  {
   "cell_type": "markdown",
   "metadata": {},
   "source": [
    "This project helps people who cannot decide on where to eat (be it alone or with others), make a decision in order to have a good time."
   ]
  },
  {
   "cell_type": "code",
   "execution_count": 2,
   "metadata": {},
   "outputs": [],
   "source": [
    "from my_module import am_i_ballin, type_of_cuisine, the_big_question, test_am_i_ballin, italian_place, mex_place, american_place, indian_place, chinese_place, seafood_place, thai_place, mediterranean_place, japanese_place"
   ]
  },
  {
   "cell_type": "markdown",
   "metadata": {},
   "source": [
    "Welcome to my code! Type my function 'the_big_question()' to begin!"
   ]
  },
  {
   "cell_type": "code",
   "execution_count": 3,
   "metadata": {},
   "outputs": [
    {
     "name": "stdout",
     "output_type": "stream",
     "text": [
      "Where should we eat tonight?\n"
     ]
    }
   ],
   "source": [
    "the_big_question()"
   ]
  },
  {
   "cell_type": "markdown",
   "metadata": {},
   "source": [
    "Great! Now let's figure out your budget for whether you'll be doing any fine dining, or just breathing (and eating ramen at home or somewhere cheap or something)"
   ]
  },
  {
   "cell_type": "markdown",
   "metadata": {},
   "source": [
    "Use the function 'am_i_ballin', using an integer representing how many dollars you are able to spend on food tonight (per person) as an input"
   ]
  },
  {
   "cell_type": "code",
   "execution_count": 6,
   "metadata": {},
   "outputs": [
    {
     "name": "stdout",
     "output_type": "stream",
     "text": [
      "consider staying in tonight\n"
     ]
    },
    {
     "data": {
      "text/plain": [
       "'consider staying in tonight'"
      ]
     },
     "execution_count": 6,
     "metadata": {},
     "output_type": "execute_result"
    }
   ],
   "source": [
    "am_i_ballin(-69)"
   ]
  },
  {
   "cell_type": "markdown",
   "metadata": {},
   "source": [
    "You're excelling splendidly if you've gotten here with no issues. Or rather, I am. Now for the type of cuisine you have failed to decide on! Sit back, relax, and allow thine beeps, boops and whirs to lead you through a deterministic dining experience, you irresolute spirit you."
   ]
  },
  {
   "cell_type": "markdown",
   "metadata": {},
   "source": [
    "call my function 'type_of_cuisine()' to have a wide assortment of food types chosen for you at random."
   ]
  },
  {
   "cell_type": "code",
   "execution_count": 7,
   "metadata": {},
   "outputs": [
    {
     "data": {
      "text/plain": [
       "'thai'"
      ]
     },
     "execution_count": 7,
     "metadata": {},
     "output_type": "execute_result"
    }
   ],
   "source": [
    "type_of_cuisine()"
   ]
  },
  {
   "cell_type": "markdown",
   "metadata": {},
   "source": [
    "Excellent choice! (That's my favorite option for dining, too). Anyways, it is time to decide on a specific restaurant from the type of food that has been chosen for you. "
   ]
  },
  {
   "cell_type": "markdown",
   "metadata": {},
   "source": [
    "You now have a type of cuisine to dine on, but so many restaurants to choose from may also seem daunting. Go ahead and use the appropriate function (choices are below) to determine which restaurant you'll eat at tonight. Be sure to include the relevant string as your input parameter."
   ]
  },
  {
   "cell_type": "markdown",
   "metadata": {},
   "source": [
    "choose one for the following cell:\n",
    "\n",
    "italian_place(inp_budget), \n",
    "mex_place(inp_budget), \n",
    "chinese_place(inp_budget), \n",
    "american_place(inp_budget), \n",
    "indian_place(inp_budget), \n",
    "seafood_place(inp_budget), \n",
    "thai_place(inp_budget), \n",
    "mediterranean_place(inp_budget), \n",
    "japanese_place(inp_budget)"
   ]
  },
  {
   "cell_type": "markdown",
   "metadata": {},
   "source": [
    "Specifically, if you were told by my code that you have a low budget, type 'im broke rn' into the function. for medium budget, type 'im able to spend a bit of money'. for high, type 'lets spend some money'"
   ]
  },
  {
   "cell_type": "code",
   "execution_count": 10,
   "metadata": {},
   "outputs": [
    {
     "data": {
      "text/plain": [
       "'lemongrass'"
      ]
     },
     "execution_count": 10,
     "metadata": {},
     "output_type": "execute_result"
    }
   ],
   "source": [
    "thai_place('im broke rn')"
   ]
  },
  {
   "cell_type": "markdown",
   "metadata": {},
   "source": [
    "Wonderful! You have now been given the gift of dining (or not, if your fate led you to the stay at home option). Either way, I hope you enjoyed my code! :)"
   ]
  },
  {
   "cell_type": "code",
   "execution_count": null,
   "metadata": {},
   "outputs": [],
   "source": []
  },
  {
   "cell_type": "code",
   "execution_count": null,
   "metadata": {},
   "outputs": [],
   "source": []
  }
 ],
 "metadata": {
  "kernelspec": {
   "display_name": "Python 3",
   "language": "python",
   "name": "python3"
  },
  "language_info": {
   "codemirror_mode": {
    "name": "ipython",
    "version": 3
   },
   "file_extension": ".py",
   "mimetype": "text/x-python",
   "name": "python",
   "nbconvert_exporter": "python",
   "pygments_lexer": "ipython3",
   "version": "3.6.7"
  }
 },
 "nbformat": 4,
 "nbformat_minor": 2
}
